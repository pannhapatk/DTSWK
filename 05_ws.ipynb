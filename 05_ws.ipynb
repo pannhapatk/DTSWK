{
  "nbformat": 4,
  "nbformat_minor": 0,
  "metadata": {
    "kernelspec": {
      "display_name": "Python 3",
      "language": "python",
      "name": "python3"
    },
    "language_info": {
      "codemirror_mode": {
        "name": "ipython",
        "version": 3
      },
      "file_extension": ".py",
      "mimetype": "text/x-python",
      "name": "python",
      "nbconvert_exporter": "python",
      "pygments_lexer": "ipython3",
      "version": "3.7.4"
    },
    "colab": {
      "name": "05 ws.ipynb",
      "provenance": [],
      "collapsed_sections": [],
      "include_colab_link": true
    }
  },
  "cells": [
    {
      "cell_type": "markdown",
      "metadata": {
        "id": "view-in-github",
        "colab_type": "text"
      },
      "source": [
        "<a href=\"https://colab.research.google.com/github/pannhapatk/DTSWK/blob/master/05_ws.ipynb\" target=\"_parent\"><img src=\"https://colab.research.google.com/assets/colab-badge.svg\" alt=\"Open In Colab\"/></a>"
      ]
    },
    {
      "cell_type": "code",
      "metadata": {
        "id": "RjQbpHTLo1MT",
        "colab_type": "code",
        "colab": {
          "base_uri": "https://localhost:8080/",
          "height": 34
        },
        "outputId": "b2623afe-89da-459d-8cb0-92034312f7b1"
      },
      "source": [
        "# ws1\n",
        "import pandas as pd\n",
        "\n",
        "datas = [1.2, 2.3, 1.5, 2, 3, 1.8, 1.4, 2.5]\n",
        "ds = pd.Series(datas)\n",
        "ds.mean()\n",
        "# ds.max()\n",
        "ds.std()\n",
        "# ds.describe()\n",
        "ds.values"
      ],
      "execution_count": 13,
      "outputs": [
        {
          "output_type": "execute_result",
          "data": {
            "text/plain": [
              "array([1.2, 2.3, 1.5, 2. , 3. , 1.8, 1.4, 2.5])"
            ]
          },
          "metadata": {
            "tags": []
          },
          "execution_count": 13
        }
      ]
    },
    {
      "cell_type": "code",
      "metadata": {
        "id": "Aso7Yhq8o1MY",
        "colab_type": "code",
        "colab": {
          "base_uri": "https://localhost:8080/",
          "height": 68
        },
        "outputId": "5e339743-777f-4d97-ca92-8dedde821238"
      },
      "source": [
        "# ws2 \n",
        "print(\"อ่านไฟล์ excel ข้อมูลจาก drive uri เป็น Dataframe = 'stats_freq.xlsx'\")\n",
        "uri = 'stats_freq.xlsx'\n",
        "df = pd.read_excel(uri)\n",
        "print(\"df.dtypes ทดลองดูชนิดข้อมูลด้วย dtypes\")\n",
        "df.dtypes\n",
        "print (\"======\")"
      ],
      "execution_count": 15,
      "outputs": [
        {
          "output_type": "stream",
          "text": [
            "อ่านไฟล์ excel ข้อมูลจาก drive uri เป็น Dataframe = 'stats_freq.xlsx'\n",
            "df.dtypes ทดลองดูชนิดข้อมูลด้วย dtypes\n",
            "======\n"
          ],
          "name": "stdout"
        }
      ]
    },
    {
      "cell_type": "code",
      "metadata": {
        "id": "uELYNK-5o1Ma",
        "colab_type": "code",
        "colab": {
          "base_uri": "https://localhost:8080/",
          "height": 85
        },
        "outputId": "820ea6da-afd1-4780-ef79-5fb3b83d33ca"
      },
      "source": [
        "df.mean()"
      ],
      "execution_count": 16,
      "outputs": [
        {
          "output_type": "execute_result",
          "data": {
            "text/plain": [
              "Age    27.0000\n",
              "Buy     1.9625\n",
              "Sex     1.3750\n",
              "dtype: float64"
            ]
          },
          "metadata": {
            "tags": []
          },
          "execution_count": 16
        }
      ]
    },
    {
      "cell_type": "code",
      "metadata": {
        "id": "l3oio-dPo1Md",
        "colab_type": "code",
        "colab": {
          "base_uri": "https://localhost:8080/",
          "height": 51
        },
        "outputId": "3905b0ac-2028-4e68-c876-d0f83c29bc47"
      },
      "source": [
        "print(\"Dataframe to Categorical Data นามบัญญัติ หมวดหมู่\")\n",
        "df.Sex = df.Sex.astype('category')\n",
        "df.dtypes\n",
        "print (\"======\")"
      ],
      "execution_count": 17,
      "outputs": [
        {
          "output_type": "stream",
          "text": [
            "Dataframe to Categorical Data นามบัญญัติ หมวดหมู่\n",
            "======\n"
          ],
          "name": "stdout"
        }
      ]
    },
    {
      "cell_type": "code",
      "metadata": {
        "id": "k88EbSMEo1Mg",
        "colab_type": "code",
        "colab": {
          "base_uri": "https://localhost:8080/",
          "height": 700
        },
        "outputId": "3c3392d6-ff37-42d2-828b-52326257bbde"
      },
      "source": [
        "# df.head()\n",
        "print (\"Head\",df.head())\n",
        "print (\"======\")\n",
        "print (\"describe ดูค่าสถิติเบื้องต้น ค่าเฉลี่ย ค่าเบี่ยงเบนมาตรฐาน std ค่า min max และ ควอไทล์\",df.describe())\n",
        "print (\"count จำนวนข้อมูลทั้งหมด แถว \")\n",
        "print (\"mean.ค่าเฉลี่ย\")\n",
        "print (\" std ค่าส่วนเบี่ยงเบนมาตรฐาน \")\n",
        "print (\" 20% 50% 75% ค่าควอไทล์ \")\n",
        "print (\" min ค่าต่ำสุด max ค่าสูงสุด\")\n",
        "print (\"======\")\n",
        "# df.mean()\n",
        "print (\"mean\",df.mean())\n",
        "print (\"======\")\n",
        "# df.max()\n",
        "print (\"max\",df.max())\n",
        "print (\"======\")\n",
        "# df.std()\n",
        "print (\"std\",df.std())\n",
        "print (\"======\")"
      ],
      "execution_count": 18,
      "outputs": [
        {
          "output_type": "stream",
          "text": [
            "Head       Name  Age  Buy Sex Gender                 Date\n",
            "0  Kobkiat   25  1.2   1      M  2020-11-10 09:10:00\n",
            "1    ณิแนน   22  2.3   2      F     15/10/2020 10:00\n",
            "2    จอห์น   25  1.5   1      M     15/10/2020 10:00\n",
            "3      Tim   35  2.0   1      M     15/10/2020 10:00\n",
            "4     Jang   32  3.0   2      F     15/10/2020 10:01\n",
            "======\n",
            "describe ดูค่าสถิติเบื้องต้น ค่าเฉลี่ย ค่าเบี่ยงเบนมาตรฐาน std ค่า min max และ ควอไทล์              Age       Buy\n",
            "count   8.000000  8.000000\n",
            "mean   27.000000  1.962500\n",
            "std     4.472136  0.611643\n",
            "min    22.000000  1.200000\n",
            "25%    24.500000  1.475000\n",
            "50%    25.500000  1.900000\n",
            "75%    29.000000  2.350000\n",
            "max    35.000000  3.000000\n",
            "count จำนวนข้อมูลทั้งหมด แถว \n",
            "mean.ค่าเฉลี่ย\n",
            " std ค่าส่วนเบี่ยงเบนมาตรฐาน \n",
            " 20% 50% 75% ค่าควอไทล์ \n",
            " min ค่าต่ำสุด max ค่าสูงสุด\n",
            "======\n",
            "mean Age    27.0000\n",
            "Buy     1.9625\n",
            "Sex     1.3750\n",
            "dtype: float64\n",
            "======\n",
            "max Name      แดง\n",
            "Age        35\n",
            "Buy         3\n",
            "Sex         2\n",
            "Gender      M\n",
            "dtype: object\n",
            "======\n",
            "std Age    4.472136\n",
            "Buy    0.611643\n",
            "Sex    0.517549\n",
            "dtype: float64\n",
            "======\n"
          ],
          "name": "stdout"
        }
      ]
    },
    {
      "cell_type": "code",
      "metadata": {
        "id": "MUboDAOMo1Mi",
        "colab_type": "code",
        "colab": {
          "base_uri": "https://localhost:8080/",
          "height": 34
        },
        "outputId": "5ba4be5f-dae5-4b1c-a423-49d4c6332d33"
      },
      "source": [
        "# ws3\n",
        "datas = [1.2, 2.3, 1.5, 2, 3, 1.8, 1.4, 2.5]\n",
        "ds = pd.Series(datas)\n",
        "ds.median()"
      ],
      "execution_count": 19,
      "outputs": [
        {
          "output_type": "execute_result",
          "data": {
            "text/plain": [
              "1.9"
            ]
          },
          "metadata": {
            "tags": []
          },
          "execution_count": 19
        }
      ]
    },
    {
      "cell_type": "code",
      "metadata": {
        "id": "QSNBeuoWo1Mk",
        "colab_type": "code",
        "colab": {
          "base_uri": "https://localhost:8080/",
          "height": 34
        },
        "outputId": "f11eeacc-42fd-4a79-8f6b-5910dbba37ce"
      },
      "source": [
        "ds.sort_values().values"
      ],
      "execution_count": 20,
      "outputs": [
        {
          "output_type": "execute_result",
          "data": {
            "text/plain": [
              "array([1.2, 1.4, 1.5, 1.8, 2. , 2.3, 2.5, 3. ])"
            ]
          },
          "metadata": {
            "tags": []
          },
          "execution_count": 20
        }
      ]
    },
    {
      "cell_type": "code",
      "metadata": {
        "id": "8JVq-zk0o1Mn",
        "colab_type": "code",
        "colab": {
          "base_uri": "https://localhost:8080/",
          "height": 85
        },
        "outputId": "bfc493e3-b670-4244-debb-8af1e93bfde1"
      },
      "source": [
        "# WS4\n",
        "uri = 'stats_freq.xlsx'\n",
        "df = pd.read_excel(uri)\n",
        "df.dtypes\n",
        "df.Sex = df.Sex.astype('category')\n",
        "df.Buy.median()       # ไม่ต้องสั่ง sort เนื่องจาก Pandas ทำให้เอง\n",
        "df.median()       # ไม่ต้องสั่ง sort เนื่องจาก Pandas ทำให้เอง\n",
        "# df.Age.mode()"
      ],
      "execution_count": 22,
      "outputs": [
        {
          "output_type": "execute_result",
          "data": {
            "text/plain": [
              "Age    25.5\n",
              "Buy     1.9\n",
              "Sex     1.0\n",
              "dtype: float64"
            ]
          },
          "metadata": {
            "tags": []
          },
          "execution_count": 22
        }
      ]
    },
    {
      "cell_type": "code",
      "metadata": {
        "id": "Z9pAqqEZo1Mp",
        "colab_type": "code",
        "colab": {}
      },
      "source": [
        "# ws5\n",
        "datas = [25, 22, 25, 35, 32, 28, 23, 26]\n",
        "ds = pd.Series(datas)\n",
        "ds.mode()"
      ],
      "execution_count": null,
      "outputs": []
    },
    {
      "cell_type": "code",
      "metadata": {
        "id": "8Rl71T2-o1Mr",
        "colab_type": "code",
        "colab": {}
      },
      "source": [
        "# ws6\n",
        "uri = 'data/stats_freq.xlsx'\n",
        "df = pd.read_excel(uri)\n",
        "df.dtypes\n",
        "df.Sex = df.Sex.astype('category')\n",
        "df.Age.mode()    "
      ],
      "execution_count": null,
      "outputs": []
    },
    {
      "cell_type": "code",
      "metadata": {
        "id": "pTq9iT_oo1Mt",
        "colab_type": "code",
        "colab": {}
      },
      "source": [
        "df.std()"
      ],
      "execution_count": null,
      "outputs": []
    },
    {
      "cell_type": "code",
      "metadata": {
        "id": "jj9_HrgLo1Mv",
        "colab_type": "code",
        "colab": {}
      },
      "source": [
        "# ws7\n",
        "datas = [8, 4, 10, 2, 6, 5, 1, 7, 9, 3, 0] \n",
        "ds = pd.Series(datas)\n",
        "ds.describe()\n",
        "# ds.quantile([0.25, 0.5, 0.75])"
      ],
      "execution_count": null,
      "outputs": []
    },
    {
      "cell_type": "code",
      "metadata": {
        "id": "wm6edgeQo1My",
        "colab_type": "code",
        "colab": {}
      },
      "source": [
        "# ws\n",
        "ds.quantile([0.1,0.2, 0.5, 0.7, 0.8])\n",
        "ds.quantile([0.05, 0.1, 0.15, 0.2, 0.25])"
      ],
      "execution_count": null,
      "outputs": []
    },
    {
      "cell_type": "code",
      "metadata": {
        "id": "0pe96wIco1M0",
        "colab_type": "code",
        "colab": {}
      },
      "source": [
        "# ws8\n",
        "\n",
        "datas = [1, 2, 1, 2, 1, 1, 1, 2]\n",
        "datas = ['M', 'F', 'M', 'F', 'M', 'M' , 'M', 'F']\n",
        "\n",
        "ds = pd.Series(datas)\n",
        "\n",
        "print(ds.value_counts())\n",
        "print('Total ', ds.count())"
      ],
      "execution_count": null,
      "outputs": []
    },
    {
      "cell_type": "code",
      "metadata": {
        "id": "_9Hg82cxo1M2",
        "colab_type": "code",
        "colab": {}
      },
      "source": [
        "# \n",
        "%matplotlib inline\n",
        "\n",
        "ds.value_counts().plot.bar(grid=True)\n",
        "# df.dtypes"
      ],
      "execution_count": null,
      "outputs": []
    },
    {
      "cell_type": "code",
      "metadata": {
        "id": "riy7ogvGo1M4",
        "colab_type": "code",
        "colab": {}
      },
      "source": [
        "# ws9\n",
        "uri = './data/stats_freq.xlsx'\n",
        "df = pd.read_excel(uri)\n",
        "df.head()\n",
        "df.Sex.value_counts()\n",
        "df.Gender.value_counts()"
      ],
      "execution_count": null,
      "outputs": []
    },
    {
      "cell_type": "code",
      "metadata": {
        "id": "nNTCoK42o1M6",
        "colab_type": "code",
        "colab": {}
      },
      "source": [
        "df.hist()"
      ],
      "execution_count": null,
      "outputs": []
    },
    {
      "cell_type": "code",
      "metadata": {
        "id": "6sf7UvWuo1M8",
        "colab_type": "code",
        "colab": {}
      },
      "source": [
        ""
      ],
      "execution_count": null,
      "outputs": []
    }
  ]
}