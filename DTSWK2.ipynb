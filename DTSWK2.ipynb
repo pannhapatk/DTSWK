{
  "nbformat": 4,
  "nbformat_minor": 0,
  "metadata": {
    "colab": {
      "name": "DTSWK2.ipynb",
      "provenance": [],
      "private_outputs": true,
      "authorship_tag": "ABX9TyOPbuVoojHJXzq1A64WbvBk",
      "include_colab_link": true
    },
    "kernelspec": {
      "name": "python3",
      "display_name": "Python 3"
    }
  },
  "cells": [
    {
      "cell_type": "markdown",
      "metadata": {
        "id": "view-in-github",
        "colab_type": "text"
      },
      "source": [
        "<a href=\"https://colab.research.google.com/github/pannhapatk/DTSWK/blob/master/DTSWK2.ipynb\" target=\"_parent\"><img src=\"https://colab.research.google.com/assets/colab-badge.svg\" alt=\"Open In Colab\"/></a>"
      ]
    },
    {
      "cell_type": "code",
      "metadata": {
        "id": "c7t0LNQDiXb0",
        "colab_type": "code",
        "colab": {}
      },
      "source": [
        "import pandas as pd\n",
        "import numpy as np\n"
      ],
      "execution_count": null,
      "outputs": []
    },
    {
      "cell_type": "code",
      "metadata": {
        "id": "bm6nH8y3i1K_",
        "colab_type": "code",
        "colab": {}
      },
      "source": [
        "datas=[1.2, 2.3, 1.5, 2, 3, 1.8,1.4,2.5]\n",
        "ds = pd.Series(datas)\n",
        "print (ds)"
      ],
      "execution_count": null,
      "outputs": []
    },
    {
      "cell_type": "code",
      "metadata": {
        "id": "nxvBCjh6jC-X",
        "colab_type": "code",
        "colab": {}
      },
      "source": [
        "vds=ds.sort_values().values\n",
        "print (vds)"
      ],
      "execution_count": null,
      "outputs": []
    },
    {
      "cell_type": "code",
      "metadata": {
        "id": "nJSuF2h6jKsh",
        "colab_type": "code",
        "colab": {}
      },
      "source": [
        "uri = 'stats_freq.xlsx'\n",
        "df = pd.read_excel(uri)\n",
        "df.dtypes"
      ],
      "execution_count": null,
      "outputs": []
    },
    {
      "cell_type": "code",
      "metadata": {
        "id": "vTgDFvpYj361",
        "colab_type": "code",
        "colab": {}
      },
      "source": [
        "df.Sex = df.Sex.astype('category')\n",
        "print(df)"
      ],
      "execution_count": null,
      "outputs": []
    },
    {
      "cell_type": "code",
      "metadata": {
        "id": "zEEUgqsdj89n",
        "colab_type": "code",
        "colab": {}
      },
      "source": [
        "print('มัธยฐาน ของ Buy',df.Buy.median())\n",
        "print('มัธยฐาน ทั้งหมด',df.median())"
      ],
      "execution_count": null,
      "outputs": []
    },
    {
      "cell_type": "code",
      "metadata": {
        "id": "4Ccsa7jGkKdU",
        "colab_type": "code",
        "colab": {}
      },
      "source": [
        "datas2 = [25,22,25,35,32,28,23,26]\n",
        "ds2 = pd.Series(datas2)\n",
        "print(\"Mode\",ds2.mode())"
      ],
      "execution_count": null,
      "outputs": []
    },
    {
      "cell_type": "code",
      "metadata": {
        "id": "d60YJHe9lIQN",
        "colab_type": "code",
        "colab": {}
      },
      "source": [
        "datas3 = [8, 4, 10, 2, 6, 5, 1, 7, 9, 3, 0]\n",
        "ds = pd.Series(datas3)\n",
        "print (ds.describe())\n",
        "print (ds.quantile([0.25, 0.5, 0.75]))\n",
        "\n"
      ],
      "execution_count": null,
      "outputs": []
    },
    {
      "cell_type": "code",
      "metadata": {
        "id": "ty42_d-i2Wgy",
        "colab_type": "code",
        "colab": {}
      },
      "source": [
        "print (ds.quantile([0.1, 0.2, 0.3 ,0.4,0.5,0.6]))"
      ],
      "execution_count": null,
      "outputs": []
    },
    {
      "cell_type": "code",
      "metadata": {
        "id": "XudGt-XU90xF",
        "colab_type": "code",
        "colab": {}
      },
      "source": [
        "ds.quantile([0.05, 0.1, 0.15, 0.2, 0.25])"
      ],
      "execution_count": null,
      "outputs": []
    },
    {
      "cell_type": "code",
      "metadata": {
        "id": "NAx5wVjc_IIN",
        "colab_type": "code",
        "colab": {}
      },
      "source": [
        ""
      ],
      "execution_count": null,
      "outputs": []
    }
  ]
}