{
  "nbformat": 4,
  "nbformat_minor": 0,
  "metadata": {
    "colab": {
      "name": "DTS-WK1.ipynb",
      "provenance": [],
      "private_outputs": true,
      "collapsed_sections": [],
      "authorship_tag": "ABX9TyNjnixMsJNk/dYiUKfl7/gw",
      "include_colab_link": true
    },
    "kernelspec": {
      "name": "python3",
      "display_name": "Python 3"
    }
  },
  "cells": [
    {
      "cell_type": "markdown",
      "metadata": {
        "id": "view-in-github",
        "colab_type": "text"
      },
      "source": [
        "<a href=\"https://colab.research.google.com/github/pannhapatk/DTSWK/blob/master/DTS_WK1.ipynb\" target=\"_parent\"><img src=\"https://colab.research.google.com/assets/colab-badge.svg\" alt=\"Open In Colab\"/></a>"
      ]
    },
    {
      "cell_type": "code",
      "metadata": {
        "id": "pougXlIshuAV",
        "colab_type": "code",
        "colab": {}
      },
      "source": [
        "import pandas as pd"
      ],
      "execution_count": null,
      "outputs": []
    },
    {
      "cell_type": "code",
      "metadata": {
        "id": "4wdpeESlh22B",
        "colab_type": "code",
        "colab": {}
      },
      "source": [
        "datas = [1.2,2.3,1.5,2,3,1.8,1.4,2.5] #ยอดซื้อ หน่วย x พันบาท\n",
        "ds = pd.Series(datas) \n",
        "print(\"ชนิดข้อมูล\",type(ds))\n",
        "print(\"มีข้อมูล\",ds)\n",
        "print(\"ค่าเฉลี่ย Mean\",ds.mean())\n",
        "print(\"ค่าเบี่ยงเบนมาตรฐาน STD\",ds.std())\n",
        "print(\"ค่าต่ำสุด Min\",ds.min())\n",
        "print(\"ค่าสูงสุด Max\",ds.max())"
      ],
      "execution_count": null,
      "outputs": []
    },
    {
      "cell_type": "code",
      "metadata": {
        "id": "38CiiWGiiY9s",
        "colab_type": "code",
        "colab": {}
      },
      "source": [
        ""
      ],
      "execution_count": null,
      "outputs": []
    }
  ]
}